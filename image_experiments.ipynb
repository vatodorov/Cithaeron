{
 "cells": [
  {
   "cell_type": "code",
   "execution_count": null,
   "metadata": {
    "collapsed": true
   },
   "outputs": [],
   "source": [
    "from keras.preprocessing.image import ImageDataGenerator\n",
    "from keras.models import Sequential\n",
    "from keras.layers import Conv2D, MaxPooling2D\n",
    "from keras.layers import Activation, Dropout, Flatten, Dense\n",
    "from keras import backend as K\n",
    "from matplotlib import pyplot as plt\n",
    "import matplotlib.image as mpimg\n",
    "import numpy as np\n",
    "import random\n",
    "import os\n",
    "\n",
    "%matplotlib inline\n",
    "\n",
    "# Assign dimensions of our images\n",
    "img_width, img_height = 150, 150\n",
    "\n",
    "# Location of images (use test folder to setup the architecture and process)\n",
    "train_data_dir = \"C:/Users/bre49823/Google Drive/Brikz/images/test/train\"         # \"/Users/valentin/GoogleDrive/Brikz/images/test/train\"\n",
    "validation_data_dir = \"C:/Users/bre49823/Google Drive/Brikz/images/test/validate\"    # \"/Users/valentin/GoogleDrive/Brikz/images/test/validate\"\n"
   ]
  },
  {
   "cell_type": "code",
   "execution_count": null,
   "metadata": {
    "collapsed": true
   },
   "outputs": [],
   "source": [
    "# A slight Matplotlib detour...\n",
    "from matplotlib import pyplot as plt\n",
    "import numpy as np\n",
    "\n",
    "x = np.linspace(start = 0.001, stop = 2, num = 100)\n",
    "print(x)\n",
    "plt.plot(x, x, label = \"linear\")\n",
    "plt.plot(x, x**2, label = \"square\")\n",
    "plt.plot(x, x**3, label = \"cubic\")\n",
    "plt.plot(x, np.log(x), label = \"log\")\n",
    "plt.plot(x, np.log10(x), label = \"log10\")\n",
    "\n",
    "plt.xlabel(\"Some X-label\")\n",
    "plt.ylabel(\"Some Y-label\")\n",
    "\n",
    "plt.title(\"Plots\")\n",
    "plt.legend()\n",
    "plt.show()"
   ]
  }
 ],
 "metadata": {
  "kernelspec": {
   "display_name": "Python 36",
   "language": "python",
   "name": "myenv"
  },
  "language_info": {
   "codemirror_mode": {
    "name": "ipython",
    "version": 3
   },
   "file_extension": ".py",
   "mimetype": "text/x-python",
   "name": "python",
   "nbconvert_exporter": "python",
   "pygments_lexer": "ipython3",
   "version": "3.6.2"
  }
 },
 "nbformat": 4,
 "nbformat_minor": 2
}
